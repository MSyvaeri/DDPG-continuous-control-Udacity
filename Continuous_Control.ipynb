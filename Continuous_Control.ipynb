{
 "cells": [
  {
   "cell_type": "markdown",
   "metadata": {},
   "source": [
    "# Continuous Control\n",
    "\n",
    "---\n",
    "\n",
    "In this notebook, you will learn how to use the Unity ML-Agents environment for the second project of the [Deep Reinforcement Learning Nanodegree](https://www.udacity.com/course/deep-reinforcement-learning-nanodegree--nd893) program.\n",
    "\n",
    "### 1. Start the Environment\n",
    "\n",
    "We begin by importing the necessary packages.  If the code cell below returns an error, please revisit the project instructions to double-check that you have installed [Unity ML-Agents](https://github.com/Unity-Technologies/ml-agents/blob/master/docs/Installation.md) and [NumPy](http://www.numpy.org/)."
   ]
  },
  {
   "cell_type": "code",
   "execution_count": 1,
   "metadata": {},
   "outputs": [],
   "source": [
    "from unityagents import UnityEnvironment\n",
    "import numpy as np"
   ]
  },
  {
   "cell_type": "markdown",
   "metadata": {},
   "source": [
    "Next, we will start the environment!  **_Before running the code cell below_**, change the `file_name` parameter to match the location of the Unity environment that you downloaded.\n",
    "\n",
    "- **Mac**: `\"path/to/Reacher.app\"`\n",
    "- **Windows** (x86): `\"path/to/Reacher_Windows_x86/Reacher.exe\"`\n",
    "- **Windows** (x86_64): `\"path/to/Reacher_Windows_x86_64/Reacher.exe\"`\n",
    "- **Linux** (x86): `\"path/to/Reacher_Linux/Reacher.x86\"`\n",
    "- **Linux** (x86_64): `\"path/to/Reacher_Linux/Reacher.x86_64\"`\n",
    "- **Linux** (x86, headless): `\"path/to/Reacher_Linux_NoVis/Reacher.x86\"`\n",
    "- **Linux** (x86_64, headless): `\"path/to/Reacher_Linux_NoVis/Reacher.x86_64\"`\n",
    "\n",
    "For instance, if you are using a Mac, then you downloaded `Reacher.app`.  If this file is in the same folder as the notebook, then the line below should appear as follows:\n",
    "```\n",
    "env = UnityEnvironment(file_name=\"Reacher.app\")\n",
    "```"
   ]
  },
  {
   "cell_type": "code",
   "execution_count": 2,
   "metadata": {},
   "outputs": [
    {
     "name": "stderr",
     "output_type": "stream",
     "text": [
      "INFO:unityagents:\n",
      "'Academy' started successfully!\n",
      "Unity Academy name: Academy\n",
      "        Number of Brains: 1\n",
      "        Number of External Brains : 1\n",
      "        Lesson number : 0\n",
      "        Reset Parameters :\n",
      "\t\tgoal_size -> 5.0\n",
      "\t\tgoal_speed -> 1.0\n",
      "Unity brain name: ReacherBrain\n",
      "        Number of Visual Observations (per agent): 0\n",
      "        Vector Observation space type: continuous\n",
      "        Vector Observation space size (per agent): 33\n",
      "        Number of stacked Vector Observation: 1\n",
      "        Vector Action space type: continuous\n",
      "        Vector Action space size (per agent): 4\n",
      "        Vector Action descriptions: , , , \n"
     ]
    }
   ],
   "source": [
    "env = UnityEnvironment(file_name='Reacher_2.app')"
   ]
  },
  {
   "cell_type": "markdown",
   "metadata": {},
   "source": [
    "Environments contain **_brains_** which are responsible for deciding the actions of their associated agents. Here we check for the first brain available, and set it as the default brain we will be controlling from Python."
   ]
  },
  {
   "cell_type": "code",
   "execution_count": 3,
   "metadata": {},
   "outputs": [
    {
     "name": "stdout",
     "output_type": "stream",
     "text": [
      "<class 'str'>\n"
     ]
    }
   ],
   "source": [
    "# get the default brain\n",
    "brain_name = env.brain_names[0]\n",
    "print(type(brain_name))\n",
    "brain = env.brains[brain_name]"
   ]
  },
  {
   "cell_type": "markdown",
   "metadata": {},
   "source": [
    "### 2. Examine the State and Action Spaces\n",
    "\n",
    "In this environment, a double-jointed arm can move to target locations. A reward of `+0.1` is provided for each step that the agent's hand is in the goal location. Thus, the goal of your agent is to maintain its position at the target location for as many time steps as possible.\n",
    "\n",
    "The observation space consists of `33` variables corresponding to position, rotation, velocity, and angular velocities of the arm.  Each action is a vector with four numbers, corresponding to torque applicable to two joints.  Every entry in the action vector must be a number between `-1` and `1`.\n",
    "\n",
    "Run the code cell below to print some information about the environment."
   ]
  },
  {
   "cell_type": "code",
   "execution_count": 4,
   "metadata": {},
   "outputs": [
    {
     "name": "stdout",
     "output_type": "stream",
     "text": [
      "Number of agents: 20\n",
      "Size of each action: 4\n",
      "(20, 33)\n",
      "There are 20 agents. Each observes a state with length: 33\n",
      "The state for the first agent looks like: [ 0.00000000e+00 -4.00000000e+00  0.00000000e+00  1.00000000e+00\n",
      " -0.00000000e+00 -0.00000000e+00 -4.37113883e-08  0.00000000e+00\n",
      "  0.00000000e+00  0.00000000e+00  0.00000000e+00  0.00000000e+00\n",
      "  0.00000000e+00  0.00000000e+00 -1.00000000e+01  0.00000000e+00\n",
      "  1.00000000e+00 -0.00000000e+00 -0.00000000e+00 -4.37113883e-08\n",
      "  0.00000000e+00  0.00000000e+00  0.00000000e+00  0.00000000e+00\n",
      "  0.00000000e+00  0.00000000e+00  5.75471878e+00 -1.00000000e+00\n",
      "  5.55726624e+00  0.00000000e+00  1.00000000e+00  0.00000000e+00\n",
      " -1.68164849e-01]\n"
     ]
    }
   ],
   "source": [
    "# reset the environment\n",
    "env_info = env.reset(train_mode=True)[brain_name]\n",
    "\n",
    "# number of agents\n",
    "num_agents = len(env_info.agents)\n",
    "print('Number of agents:', num_agents)\n",
    "\n",
    "# size of each action\n",
    "action_size = brain.vector_action_space_size\n",
    "print('Size of each action:', action_size)\n",
    "\n",
    "# examine the state space \n",
    "states = env_info.vector_observations\n",
    "print(np.shape(states))\n",
    "state_size = states.shape[1]\n",
    "print('There are {} agents. Each observes a state with length: {}'.format(states.shape[0], state_size))\n",
    "print('The state for the first agent looks like:', states[0])"
   ]
  },
  {
   "cell_type": "markdown",
   "metadata": {},
   "source": [
    "### 3. Take Random Actions in the Environment\n",
    "\n",
    "In the next code cell, you will learn how to use the Python API to control the agent and receive feedback from the environment.\n",
    "\n",
    "Once this cell is executed, you will watch the agent's performance, if it selects an action at random with each time step.  A window should pop up that allows you to observe the agent, as it moves through the environment.  \n",
    "\n",
    "Of course, as part of the project, you'll have to change the code so that the agent is able to use its experience to gradually choose better actions when interacting with the environment!"
   ]
  },
  {
   "cell_type": "code",
   "execution_count": 5,
   "metadata": {},
   "outputs": [
    {
     "name": "stdout",
     "output_type": "stream",
     "text": [
      "<class 'numpy.ndarray'>\n",
      "<class 'str'>\n",
      "<class 'numpy.ndarray'>\n",
      "<class 'str'>\n",
      "<class 'numpy.ndarray'>\n",
      "<class 'str'>\n",
      "<class 'numpy.ndarray'>\n",
      "<class 'str'>\n",
      "<class 'numpy.ndarray'>\n",
      "<class 'str'>\n",
      "<class 'numpy.ndarray'>\n",
      "<class 'str'>\n",
      "<class 'numpy.ndarray'>\n",
      "<class 'str'>\n",
      "<class 'numpy.ndarray'>\n",
      "<class 'str'>\n",
      "<class 'numpy.ndarray'>\n",
      "<class 'str'>\n",
      "<class 'numpy.ndarray'>\n",
      "<class 'str'>\n",
      "<class 'numpy.ndarray'>\n",
      "<class 'str'>\n",
      "<class 'numpy.ndarray'>\n",
      "<class 'str'>\n",
      "<class 'numpy.ndarray'>\n",
      "<class 'str'>\n",
      "<class 'numpy.ndarray'>\n",
      "<class 'str'>\n",
      "<class 'numpy.ndarray'>\n",
      "<class 'str'>\n",
      "<class 'numpy.ndarray'>\n",
      "<class 'str'>\n",
      "<class 'numpy.ndarray'>\n",
      "<class 'str'>\n",
      "<class 'numpy.ndarray'>\n",
      "<class 'str'>\n",
      "<class 'numpy.ndarray'>\n",
      "<class 'str'>\n",
      "<class 'numpy.ndarray'>\n",
      "<class 'str'>\n",
      "<class 'numpy.ndarray'>\n",
      "<class 'str'>\n",
      "<class 'numpy.ndarray'>\n",
      "<class 'str'>\n",
      "<class 'numpy.ndarray'>\n",
      "<class 'str'>\n",
      "<class 'numpy.ndarray'>\n",
      "<class 'str'>\n",
      "<class 'numpy.ndarray'>\n",
      "<class 'str'>\n",
      "<class 'numpy.ndarray'>\n",
      "<class 'str'>\n",
      "<class 'numpy.ndarray'>\n",
      "<class 'str'>\n",
      "<class 'numpy.ndarray'>\n",
      "<class 'str'>\n",
      "<class 'numpy.ndarray'>\n",
      "<class 'str'>\n",
      "<class 'numpy.ndarray'>\n",
      "<class 'str'>\n",
      "<class 'numpy.ndarray'>\n",
      "<class 'str'>\n",
      "<class 'numpy.ndarray'>\n",
      "<class 'str'>\n",
      "<class 'numpy.ndarray'>\n",
      "<class 'str'>\n",
      "<class 'numpy.ndarray'>\n",
      "<class 'str'>\n",
      "<class 'numpy.ndarray'>\n",
      "<class 'str'>\n",
      "<class 'numpy.ndarray'>\n",
      "<class 'str'>\n",
      "<class 'numpy.ndarray'>\n",
      "<class 'str'>\n",
      "<class 'numpy.ndarray'>\n",
      "<class 'str'>\n",
      "<class 'numpy.ndarray'>\n",
      "<class 'str'>\n",
      "<class 'numpy.ndarray'>\n",
      "<class 'str'>\n",
      "<class 'numpy.ndarray'>\n",
      "<class 'str'>\n",
      "<class 'numpy.ndarray'>\n",
      "<class 'str'>\n",
      "<class 'numpy.ndarray'>\n",
      "<class 'str'>\n",
      "<class 'numpy.ndarray'>\n",
      "<class 'str'>\n",
      "<class 'numpy.ndarray'>\n",
      "<class 'str'>\n",
      "<class 'numpy.ndarray'>\n",
      "<class 'str'>\n",
      "<class 'numpy.ndarray'>\n",
      "<class 'str'>\n",
      "<class 'numpy.ndarray'>\n",
      "<class 'str'>\n",
      "<class 'numpy.ndarray'>\n",
      "<class 'str'>\n",
      "<class 'numpy.ndarray'>\n",
      "<class 'str'>\n",
      "<class 'numpy.ndarray'>\n",
      "<class 'str'>\n",
      "<class 'numpy.ndarray'>\n",
      "<class 'str'>\n",
      "<class 'numpy.ndarray'>\n",
      "<class 'str'>\n",
      "<class 'numpy.ndarray'>\n",
      "<class 'str'>\n",
      "<class 'numpy.ndarray'>\n",
      "<class 'str'>\n",
      "<class 'numpy.ndarray'>\n",
      "<class 'str'>\n",
      "<class 'numpy.ndarray'>\n",
      "<class 'str'>\n",
      "<class 'numpy.ndarray'>\n",
      "<class 'str'>\n",
      "<class 'numpy.ndarray'>\n",
      "<class 'str'>\n",
      "<class 'numpy.ndarray'>\n",
      "<class 'str'>\n",
      "<class 'numpy.ndarray'>\n",
      "<class 'str'>\n",
      "<class 'numpy.ndarray'>\n",
      "<class 'str'>\n",
      "<class 'numpy.ndarray'>\n",
      "<class 'str'>\n",
      "<class 'numpy.ndarray'>\n",
      "<class 'str'>\n",
      "<class 'numpy.ndarray'>\n",
      "<class 'str'>\n",
      "<class 'numpy.ndarray'>\n",
      "<class 'str'>\n",
      "<class 'numpy.ndarray'>\n",
      "<class 'str'>\n",
      "<class 'numpy.ndarray'>\n",
      "<class 'str'>\n",
      "<class 'numpy.ndarray'>\n",
      "<class 'str'>\n",
      "<class 'numpy.ndarray'>\n",
      "<class 'str'>\n",
      "<class 'numpy.ndarray'>\n",
      "<class 'str'>\n",
      "<class 'numpy.ndarray'>\n",
      "<class 'str'>\n",
      "<class 'numpy.ndarray'>\n",
      "<class 'str'>\n",
      "<class 'numpy.ndarray'>\n",
      "<class 'str'>\n",
      "<class 'numpy.ndarray'>\n",
      "<class 'str'>\n",
      "<class 'numpy.ndarray'>\n",
      "<class 'str'>\n",
      "<class 'numpy.ndarray'>\n",
      "<class 'str'>\n",
      "<class 'numpy.ndarray'>\n",
      "<class 'str'>\n",
      "<class 'numpy.ndarray'>\n",
      "<class 'str'>\n",
      "<class 'numpy.ndarray'>\n",
      "<class 'str'>\n",
      "<class 'numpy.ndarray'>\n",
      "<class 'str'>\n",
      "<class 'numpy.ndarray'>\n",
      "<class 'str'>\n",
      "<class 'numpy.ndarray'>\n",
      "<class 'str'>\n",
      "<class 'numpy.ndarray'>\n",
      "<class 'str'>\n",
      "<class 'numpy.ndarray'>\n",
      "<class 'str'>\n",
      "<class 'numpy.ndarray'>\n",
      "<class 'str'>\n",
      "<class 'numpy.ndarray'>\n",
      "<class 'str'>\n",
      "<class 'numpy.ndarray'>\n",
      "<class 'str'>\n",
      "<class 'numpy.ndarray'>\n",
      "<class 'str'>\n",
      "<class 'numpy.ndarray'>\n",
      "<class 'str'>\n",
      "<class 'numpy.ndarray'>\n",
      "<class 'str'>\n",
      "<class 'numpy.ndarray'>\n",
      "<class 'str'>\n",
      "<class 'numpy.ndarray'>\n",
      "<class 'str'>\n",
      "<class 'numpy.ndarray'>\n",
      "<class 'str'>\n",
      "<class 'numpy.ndarray'>\n",
      "<class 'str'>\n",
      "<class 'numpy.ndarray'>\n",
      "<class 'str'>\n",
      "<class 'numpy.ndarray'>\n",
      "<class 'str'>\n",
      "<class 'numpy.ndarray'>\n",
      "<class 'str'>\n",
      "<class 'numpy.ndarray'>\n",
      "<class 'str'>\n",
      "<class 'numpy.ndarray'>\n",
      "<class 'str'>\n",
      "<class 'numpy.ndarray'>\n",
      "<class 'str'>\n",
      "<class 'numpy.ndarray'>\n",
      "<class 'str'>\n",
      "<class 'numpy.ndarray'>\n",
      "<class 'str'>\n",
      "<class 'numpy.ndarray'>\n",
      "<class 'str'>\n",
      "<class 'numpy.ndarray'>\n",
      "<class 'str'>\n",
      "<class 'numpy.ndarray'>\n",
      "<class 'str'>\n",
      "<class 'numpy.ndarray'>\n",
      "<class 'str'>\n",
      "<class 'numpy.ndarray'>\n",
      "<class 'str'>\n"
     ]
    },
    {
     "ename": "KeyboardInterrupt",
     "evalue": "",
     "output_type": "error",
     "traceback": [
      "\u001b[0;31m---------------------------------------------------------------------------\u001b[0m",
      "\u001b[0;31mKeyboardInterrupt\u001b[0m                         Traceback (most recent call last)",
      "\u001b[0;32m<ipython-input-5-d7f2f76f065c>\u001b[0m in \u001b[0;36m<module>\u001b[0;34m\u001b[0m\n\u001b[1;32m      7\u001b[0m     \u001b[0mprint\u001b[0m\u001b[0;34m(\u001b[0m\u001b[0mtype\u001b[0m\u001b[0;34m(\u001b[0m\u001b[0mactions\u001b[0m\u001b[0;34m)\u001b[0m\u001b[0;34m)\u001b[0m\u001b[0;34m\u001b[0m\u001b[0;34m\u001b[0m\u001b[0m\n\u001b[1;32m      8\u001b[0m     \u001b[0mprint\u001b[0m\u001b[0;34m(\u001b[0m\u001b[0mtype\u001b[0m\u001b[0;34m(\u001b[0m\u001b[0mbrain_name\u001b[0m\u001b[0;34m)\u001b[0m\u001b[0;34m)\u001b[0m\u001b[0;34m\u001b[0m\u001b[0;34m\u001b[0m\u001b[0m\n\u001b[0;32m----> 9\u001b[0;31m     \u001b[0menv_info\u001b[0m \u001b[0;34m=\u001b[0m \u001b[0menv\u001b[0m\u001b[0;34m.\u001b[0m\u001b[0mstep\u001b[0m\u001b[0;34m(\u001b[0m\u001b[0mactions\u001b[0m\u001b[0;34m)\u001b[0m\u001b[0;34m[\u001b[0m\u001b[0mbrain_name\u001b[0m\u001b[0;34m]\u001b[0m           \u001b[0;31m# send all actions to tne environment\u001b[0m\u001b[0;34m\u001b[0m\u001b[0;34m\u001b[0m\u001b[0m\n\u001b[0m\u001b[1;32m     10\u001b[0m     \u001b[0mnext_states\u001b[0m \u001b[0;34m=\u001b[0m \u001b[0menv_info\u001b[0m\u001b[0;34m.\u001b[0m\u001b[0mvector_observations\u001b[0m         \u001b[0;31m# get next state (for each agent)\u001b[0m\u001b[0;34m\u001b[0m\u001b[0;34m\u001b[0m\u001b[0m\n\u001b[1;32m     11\u001b[0m     \u001b[0mrewards\u001b[0m \u001b[0;34m=\u001b[0m \u001b[0menv_info\u001b[0m\u001b[0;34m.\u001b[0m\u001b[0mrewards\u001b[0m                         \u001b[0;31m# get reward (for each agent)\u001b[0m\u001b[0;34m\u001b[0m\u001b[0;34m\u001b[0m\u001b[0m\n",
      "\u001b[0;32m/opt/anaconda3/envs/drlnd/lib/python3.6/site-packages/unityagents/environment.py\u001b[0m in \u001b[0;36mstep\u001b[0;34m(self, vector_action, memory, text_action)\u001b[0m\n\u001b[1;32m    367\u001b[0m \u001b[0;34m\u001b[0m\u001b[0m\n\u001b[1;32m    368\u001b[0m             outputs = self.communicator.exchange(\n\u001b[0;32m--> 369\u001b[0;31m                 \u001b[0mself\u001b[0m\u001b[0;34m.\u001b[0m\u001b[0m_generate_step_input\u001b[0m\u001b[0;34m(\u001b[0m\u001b[0mvector_action\u001b[0m\u001b[0;34m,\u001b[0m \u001b[0mmemory\u001b[0m\u001b[0;34m,\u001b[0m \u001b[0mtext_action\u001b[0m\u001b[0;34m)\u001b[0m\u001b[0;34m\u001b[0m\u001b[0;34m\u001b[0m\u001b[0m\n\u001b[0m\u001b[1;32m    370\u001b[0m             )\n\u001b[1;32m    371\u001b[0m             \u001b[0;32mif\u001b[0m \u001b[0moutputs\u001b[0m \u001b[0;32mis\u001b[0m \u001b[0;32mNone\u001b[0m\u001b[0;34m:\u001b[0m\u001b[0;34m\u001b[0m\u001b[0;34m\u001b[0m\u001b[0m\n",
      "\u001b[0;32m/opt/anaconda3/envs/drlnd/lib/python3.6/site-packages/unityagents/rpc_communicator.py\u001b[0m in \u001b[0;36mexchange\u001b[0;34m(self, inputs)\u001b[0m\n\u001b[1;32m     76\u001b[0m         \u001b[0mmessage\u001b[0m\u001b[0;34m.\u001b[0m\u001b[0munity_input\u001b[0m\u001b[0;34m.\u001b[0m\u001b[0mCopyFrom\u001b[0m\u001b[0;34m(\u001b[0m\u001b[0minputs\u001b[0m\u001b[0;34m)\u001b[0m\u001b[0;34m\u001b[0m\u001b[0;34m\u001b[0m\u001b[0m\n\u001b[1;32m     77\u001b[0m         \u001b[0mself\u001b[0m\u001b[0;34m.\u001b[0m\u001b[0munity_to_external\u001b[0m\u001b[0;34m.\u001b[0m\u001b[0mparent_conn\u001b[0m\u001b[0;34m.\u001b[0m\u001b[0msend\u001b[0m\u001b[0;34m(\u001b[0m\u001b[0mmessage\u001b[0m\u001b[0;34m)\u001b[0m\u001b[0;34m\u001b[0m\u001b[0;34m\u001b[0m\u001b[0m\n\u001b[0;32m---> 78\u001b[0;31m         \u001b[0moutput\u001b[0m \u001b[0;34m=\u001b[0m \u001b[0mself\u001b[0m\u001b[0;34m.\u001b[0m\u001b[0munity_to_external\u001b[0m\u001b[0;34m.\u001b[0m\u001b[0mparent_conn\u001b[0m\u001b[0;34m.\u001b[0m\u001b[0mrecv\u001b[0m\u001b[0;34m(\u001b[0m\u001b[0;34m)\u001b[0m\u001b[0;34m\u001b[0m\u001b[0;34m\u001b[0m\u001b[0m\n\u001b[0m\u001b[1;32m     79\u001b[0m         \u001b[0;32mif\u001b[0m \u001b[0moutput\u001b[0m\u001b[0;34m.\u001b[0m\u001b[0mheader\u001b[0m\u001b[0;34m.\u001b[0m\u001b[0mstatus\u001b[0m \u001b[0;34m!=\u001b[0m \u001b[0;36m200\u001b[0m\u001b[0;34m:\u001b[0m\u001b[0;34m\u001b[0m\u001b[0;34m\u001b[0m\u001b[0m\n\u001b[1;32m     80\u001b[0m             \u001b[0;32mreturn\u001b[0m \u001b[0;32mNone\u001b[0m\u001b[0;34m\u001b[0m\u001b[0;34m\u001b[0m\u001b[0m\n",
      "\u001b[0;32m/opt/anaconda3/envs/drlnd/lib/python3.6/multiprocessing/connection.py\u001b[0m in \u001b[0;36mrecv\u001b[0;34m(self)\u001b[0m\n\u001b[1;32m    248\u001b[0m         \u001b[0mself\u001b[0m\u001b[0;34m.\u001b[0m\u001b[0m_check_closed\u001b[0m\u001b[0;34m(\u001b[0m\u001b[0;34m)\u001b[0m\u001b[0;34m\u001b[0m\u001b[0;34m\u001b[0m\u001b[0m\n\u001b[1;32m    249\u001b[0m         \u001b[0mself\u001b[0m\u001b[0;34m.\u001b[0m\u001b[0m_check_readable\u001b[0m\u001b[0;34m(\u001b[0m\u001b[0;34m)\u001b[0m\u001b[0;34m\u001b[0m\u001b[0;34m\u001b[0m\u001b[0m\n\u001b[0;32m--> 250\u001b[0;31m         \u001b[0mbuf\u001b[0m \u001b[0;34m=\u001b[0m \u001b[0mself\u001b[0m\u001b[0;34m.\u001b[0m\u001b[0m_recv_bytes\u001b[0m\u001b[0;34m(\u001b[0m\u001b[0;34m)\u001b[0m\u001b[0;34m\u001b[0m\u001b[0;34m\u001b[0m\u001b[0m\n\u001b[0m\u001b[1;32m    251\u001b[0m         \u001b[0;32mreturn\u001b[0m \u001b[0m_ForkingPickler\u001b[0m\u001b[0;34m.\u001b[0m\u001b[0mloads\u001b[0m\u001b[0;34m(\u001b[0m\u001b[0mbuf\u001b[0m\u001b[0;34m.\u001b[0m\u001b[0mgetbuffer\u001b[0m\u001b[0;34m(\u001b[0m\u001b[0;34m)\u001b[0m\u001b[0;34m)\u001b[0m\u001b[0;34m\u001b[0m\u001b[0;34m\u001b[0m\u001b[0m\n\u001b[1;32m    252\u001b[0m \u001b[0;34m\u001b[0m\u001b[0m\n",
      "\u001b[0;32m/opt/anaconda3/envs/drlnd/lib/python3.6/multiprocessing/connection.py\u001b[0m in \u001b[0;36m_recv_bytes\u001b[0;34m(self, maxsize)\u001b[0m\n\u001b[1;32m    405\u001b[0m \u001b[0;34m\u001b[0m\u001b[0m\n\u001b[1;32m    406\u001b[0m     \u001b[0;32mdef\u001b[0m \u001b[0m_recv_bytes\u001b[0m\u001b[0;34m(\u001b[0m\u001b[0mself\u001b[0m\u001b[0;34m,\u001b[0m \u001b[0mmaxsize\u001b[0m\u001b[0;34m=\u001b[0m\u001b[0;32mNone\u001b[0m\u001b[0;34m)\u001b[0m\u001b[0;34m:\u001b[0m\u001b[0;34m\u001b[0m\u001b[0;34m\u001b[0m\u001b[0m\n\u001b[0;32m--> 407\u001b[0;31m         \u001b[0mbuf\u001b[0m \u001b[0;34m=\u001b[0m \u001b[0mself\u001b[0m\u001b[0;34m.\u001b[0m\u001b[0m_recv\u001b[0m\u001b[0;34m(\u001b[0m\u001b[0;36m4\u001b[0m\u001b[0;34m)\u001b[0m\u001b[0;34m\u001b[0m\u001b[0;34m\u001b[0m\u001b[0m\n\u001b[0m\u001b[1;32m    408\u001b[0m         \u001b[0msize\u001b[0m\u001b[0;34m,\u001b[0m \u001b[0;34m=\u001b[0m \u001b[0mstruct\u001b[0m\u001b[0;34m.\u001b[0m\u001b[0munpack\u001b[0m\u001b[0;34m(\u001b[0m\u001b[0;34m\"!i\"\u001b[0m\u001b[0;34m,\u001b[0m \u001b[0mbuf\u001b[0m\u001b[0;34m.\u001b[0m\u001b[0mgetvalue\u001b[0m\u001b[0;34m(\u001b[0m\u001b[0;34m)\u001b[0m\u001b[0;34m)\u001b[0m\u001b[0;34m\u001b[0m\u001b[0;34m\u001b[0m\u001b[0m\n\u001b[1;32m    409\u001b[0m         \u001b[0;32mif\u001b[0m \u001b[0mmaxsize\u001b[0m \u001b[0;32mis\u001b[0m \u001b[0;32mnot\u001b[0m \u001b[0;32mNone\u001b[0m \u001b[0;32mand\u001b[0m \u001b[0msize\u001b[0m \u001b[0;34m>\u001b[0m \u001b[0mmaxsize\u001b[0m\u001b[0;34m:\u001b[0m\u001b[0;34m\u001b[0m\u001b[0;34m\u001b[0m\u001b[0m\n",
      "\u001b[0;32m/opt/anaconda3/envs/drlnd/lib/python3.6/multiprocessing/connection.py\u001b[0m in \u001b[0;36m_recv\u001b[0;34m(self, size, read)\u001b[0m\n\u001b[1;32m    377\u001b[0m         \u001b[0mremaining\u001b[0m \u001b[0;34m=\u001b[0m \u001b[0msize\u001b[0m\u001b[0;34m\u001b[0m\u001b[0;34m\u001b[0m\u001b[0m\n\u001b[1;32m    378\u001b[0m         \u001b[0;32mwhile\u001b[0m \u001b[0mremaining\u001b[0m \u001b[0;34m>\u001b[0m \u001b[0;36m0\u001b[0m\u001b[0;34m:\u001b[0m\u001b[0;34m\u001b[0m\u001b[0;34m\u001b[0m\u001b[0m\n\u001b[0;32m--> 379\u001b[0;31m             \u001b[0mchunk\u001b[0m \u001b[0;34m=\u001b[0m \u001b[0mread\u001b[0m\u001b[0;34m(\u001b[0m\u001b[0mhandle\u001b[0m\u001b[0;34m,\u001b[0m \u001b[0mremaining\u001b[0m\u001b[0;34m)\u001b[0m\u001b[0;34m\u001b[0m\u001b[0;34m\u001b[0m\u001b[0m\n\u001b[0m\u001b[1;32m    380\u001b[0m             \u001b[0mn\u001b[0m \u001b[0;34m=\u001b[0m \u001b[0mlen\u001b[0m\u001b[0;34m(\u001b[0m\u001b[0mchunk\u001b[0m\u001b[0;34m)\u001b[0m\u001b[0;34m\u001b[0m\u001b[0;34m\u001b[0m\u001b[0m\n\u001b[1;32m    381\u001b[0m             \u001b[0;32mif\u001b[0m \u001b[0mn\u001b[0m \u001b[0;34m==\u001b[0m \u001b[0;36m0\u001b[0m\u001b[0;34m:\u001b[0m\u001b[0;34m\u001b[0m\u001b[0;34m\u001b[0m\u001b[0m\n",
      "\u001b[0;31mKeyboardInterrupt\u001b[0m: "
     ]
    }
   ],
   "source": [
    "env_info = env.reset(train_mode=False)[brain_name]     # reset the environment    \n",
    "states = env_info.vector_observations                  # get the current state (for each agent)\n",
    "scores = np.zeros(num_agents)                          # initialize the score (for each agent)\n",
    "while True:\n",
    "    actions = np.random.randn(num_agents, action_size) # select an action (for each agent)\n",
    "    actions = np.clip(actions, -1, 1)                  # all actions between -1 and 1\n",
    "    print(type(actions))\n",
    "    print(type(brain_name))\n",
    "    env_info = env.step(actions)[brain_name]           # send all actions to tne environment\n",
    "    next_states = env_info.vector_observations         # get next state (for each agent)\n",
    "    rewards = env_info.rewards                         # get reward (for each agent)\n",
    "    dones = env_info.local_done                        # see if episode finished\n",
    "    scores += env_info.rewards                         # update the score (for each agent)\n",
    "    states = next_states                               # roll over states to next time step\n",
    "    if np.any(dones):                                  # exit loop if episode finished\n",
    "        break\n",
    "print('Total score (averaged over agents) this episode: {}'.format(np.mean(scores)))"
   ]
  },
  {
   "cell_type": "markdown",
   "metadata": {},
   "source": [
    "When finished, you can close the environment."
   ]
  },
  {
   "cell_type": "code",
   "execution_count": null,
   "metadata": {},
   "outputs": [],
   "source": [
    "env.close()"
   ]
  },
  {
   "cell_type": "markdown",
   "metadata": {},
   "source": [
    "### 4. It's Your Turn!\n",
    "\n",
    "Now it's your turn to train your own agent to solve the environment!  When training the environment, set `train_mode=True`, so that the line for resetting the environment looks like the following:\n",
    "```python\n",
    "env_info = env.reset(train_mode=True)[brain_name]\n",
    "```"
   ]
  },
  {
   "cell_type": "code",
   "execution_count": 1,
   "metadata": {},
   "outputs": [],
   "source": [
    "from unityagents import UnityEnvironment\n",
    "import numpy as np\n",
    "import matplotlib.pyplot as plt\n",
    "\n",
    "import random\n",
    "from collections import namedtuple, deque\n",
    "\n",
    "\n",
    "from dqn_agent import Agent\n",
    "\n",
    "\n",
    "#from model import Network\n",
    "\n",
    "import torch\n",
    "import torch.nn.functional as F\n",
    "import torch.optim as optim\n",
    "\n",
    "\n"
   ]
  },
  {
   "cell_type": "code",
   "execution_count": 2,
   "metadata": {},
   "outputs": [
    {
     "name": "stderr",
     "output_type": "stream",
     "text": [
      "INFO:unityagents:\n",
      "'Academy' started successfully!\n",
      "Unity Academy name: Academy\n",
      "        Number of Brains: 1\n",
      "        Number of External Brains : 1\n",
      "        Lesson number : 0\n",
      "        Reset Parameters :\n",
      "\t\tgoal_speed -> 1.0\n",
      "\t\tgoal_size -> 5.0\n",
      "Unity brain name: ReacherBrain\n",
      "        Number of Visual Observations (per agent): 0\n",
      "        Vector Observation space type: continuous\n",
      "        Vector Observation space size (per agent): 33\n",
      "        Number of stacked Vector Observation: 1\n",
      "        Vector Action space type: continuous\n",
      "        Vector Action space size (per agent): 4\n",
      "        Vector Action descriptions: , , , \n"
     ]
    },
    {
     "name": "stdout",
     "output_type": "stream",
     "text": [
      "['ReacherBrain']\n",
      "ReacherBrain\n"
     ]
    }
   ],
   "source": [
    "env = UnityEnvironment(file_name='Reacher_2.app')\n",
    "\n",
    "brain_name = env.brain_names[0]\n",
    "print(env.brain_names)\n",
    "print(brain_name)\n",
    "brain = env.brains[brain_name]"
   ]
  },
  {
   "cell_type": "code",
   "execution_count": 3,
   "metadata": {},
   "outputs": [
    {
     "name": "stdout",
     "output_type": "stream",
     "text": [
      "Number of agents: 20\n",
      "Size of each action: 4\n",
      "There are 20 agents. Each observes a state with length: 33\n",
      "The state for the first agent looks like: [ 0.00000000e+00 -4.00000000e+00  0.00000000e+00  1.00000000e+00\n",
      " -0.00000000e+00 -0.00000000e+00 -4.37113883e-08  0.00000000e+00\n",
      "  0.00000000e+00  0.00000000e+00  0.00000000e+00  0.00000000e+00\n",
      "  0.00000000e+00  0.00000000e+00 -1.00000000e+01  0.00000000e+00\n",
      "  1.00000000e+00 -0.00000000e+00 -0.00000000e+00 -4.37113883e-08\n",
      "  0.00000000e+00  0.00000000e+00  0.00000000e+00  0.00000000e+00\n",
      "  0.00000000e+00  0.00000000e+00  5.75471878e+00 -1.00000000e+00\n",
      "  5.55726624e+00  0.00000000e+00  1.00000000e+00  0.00000000e+00\n",
      " -1.68164849e-01]\n"
     ]
    }
   ],
   "source": [
    "# reset the environment\n",
    "env_info = env.reset(train_mode=True)[brain_name]\n",
    "\n",
    "# number of agents\n",
    "num_agents = len(env_info.agents)\n",
    "print('Number of agents:', num_agents)\n",
    "\n",
    "# size of each action\n",
    "action_size = brain.vector_action_space_size\n",
    "print('Size of each action:', action_size)\n",
    "\n",
    "# examine the state space \n",
    "states = env_info.vector_observations\n",
    "state_size = states.shape[1]\n",
    "print('There are {} agents. Each observes a state with length: {}'.format(states.shape[0], state_size))\n",
    "print('The state for the first agent looks like:', states[0])"
   ]
  },
  {
   "cell_type": "code",
   "execution_count": 4,
   "metadata": {},
   "outputs": [
    {
     "name": "stdout",
     "output_type": "stream",
     "text": [
      "Episode 10\tAverage Score: 3.54\tCurrent Score: 11.20\n",
      "Episode 20\tAverage Score: 14.71\tCurrent Score: 36.92\n",
      "Episode 30\tAverage Score: 21.83\tCurrent Score: 36.17\n",
      "Episode 40\tAverage Score: 25.17\tCurrent Score: 34.99\n",
      "Episode 50\tAverage Score: 27.36\tCurrent Score: 38.18\n",
      "Episode 60\tAverage Score: 29.03\tCurrent Score: 37.84\n",
      "Episode 70\tAverage Score: 30.27\tCurrent Score: 37.81\n",
      "Episode 80\tAverage Score: 31.20\tCurrent Score: 37.23\n",
      "Episode 90\tAverage Score: 31.87\tCurrent Score: 37.67\n",
      "Episode 100\tAverage Score: 32.34\tCurrent Score: 38.15\n",
      "\n",
      "Environment solved in 0 episodes!\tAverage Score: 32.34\n"
     ]
    },
    {
     "data": {
      "image/png": "[encoded data removed]",
      "text/plain": [
       "<Figure size 432x288 with 1 Axes>"
      ]
     },
     "metadata": {
      "needs_background": "light"
     },
     "output_type": "display_data"
    }
   ],
   "source": [
    "def dqn(num_agents,n_episodes=2000, max_t=1000, eps_start=1., eps_end=0.05, eps_decay=0.5):\n",
    "    \"\"\"Deep Q-Learning.\n",
    "    \n",
    "    Params\n",
    "    ======\n",
    "        n_episodes (int): maximum number of training episodes\n",
    "        max_t (int): maximum number of timesteps per episode\n",
    "        eps_start (float): starting value of epsilon, for epsilon-greedy action selection\n",
    "        eps_end (float): minimum value of epsilon\n",
    "        eps_decay (float): multiplicative factor (per episode) for decreasing epsilon\n",
    "    \"\"\"\n",
    "    scores = []                        # list containing scores from each episode\n",
    "    scores_window = deque(maxlen=100)  # last 100 scores\n",
    "    eps = eps_start                    # initialize epsilon\n",
    "    for i_episode in range(1, n_episodes+1):\n",
    "        cnt=0\n",
    "        env_info = env.reset(train_mode=True)[brain_name]\n",
    "\n",
    "        state = env_info.vector_observations[:]\n",
    "      #  print(np.shape(state))\n",
    "        state=(np.array(state))\n",
    "        score = np.zeros(num_agents)\n",
    "        for t in range(max_t):\n",
    "            action = agent.act(state,eps)[0]\n",
    "          #  print(np.shape(action))\n",
    "           # print((brain_name))\n",
    "            env_info = env.step(action)[brain_name]        # send the action to the environment\n",
    "            next_state = env_info.vector_observations[:]      # get the next state\n",
    "            reward = env_info.rewards[:]                   # get the reward\n",
    "           # print(reward)\n",
    "            done = env_info.local_done[:]                     # see if episode has finished\n",
    "            #print(done)\n",
    "    \n",
    "          #  print(cnt)\n",
    "            cnt=cnt+1\n",
    "            agent.step(state, action, reward, next_state, done)\n",
    "            state = next_state\n",
    "            \n",
    "            score += np.array(reward)\n",
    "            \n",
    "            \n",
    "            if np.any(done):\n",
    "                break \n",
    "        scores_window.append(score)       # save most recent score\n",
    "        scores.append(score)              # save most recent score\n",
    "        eps = max(eps_end, eps_decay*eps) # decrease epsilon\n",
    "     #   print(np.mean(scores_window))\n",
    "       # print(score)\n",
    "        print('\\rEpisode {}\\tAverage Score: {:.2f}\\tCurrent Score: {:.2f}'.format(i_episode, np.mean(scores_window), np.mean(score)), end=\"\")\n",
    "        if i_episode % 10 == 0:\n",
    "            print('\\rEpisode {}\\tAverage Score: {:.2f}'.format(i_episode, np.mean(scores_window), np.mean(reward)))\n",
    "        if np.mean(scores_window)>=30.0 and i_episode>=100:\n",
    "            print('\\nEnvironment solved in {:d} episodes!\\tAverage Score: {:.2f}'.format(i_episode-100, np.mean(scores_window)))\n",
    "            torch.save(agent.actor_network_local.state_dict(), 'actor_model.pt')\n",
    "            torch.save(agent.critic_network_local.state_dict(), 'critic_model.pt')\n",
    "            \n",
    "            break\n",
    "    return scores\n",
    "\n",
    "num_agents=states.shape[0]\n",
    "agent = Agent(state_size=len(env_info.vector_observations[0]), action_size=brain.vector_action_space_size,n_agents=states.shape[0], seed=0)\n",
    "\n",
    "scores = dqn(num_agents)\n",
    "\n",
    "# plot the scores\n",
    "fig = plt.figure()\n",
    "ax = fig.add_subplot(111)\n",
    "plt.plot(np.arange(len(scores)), np.mean(scores,axis=1))\n",
    "plt.ylabel('Score')\n",
    "plt.xlabel('Episode #')\n",
    "plt.show()"
   ]
  },
  {
   "cell_type": "code",
   "execution_count": 9,
   "metadata": {},
   "outputs": [
    {
     "data": {
      "image/png": "[encoded data removed]",
      "text/plain": [
       "<Figure size 432x288 with 1 Axes>"
      ]
     },
     "metadata": {
      "needs_background": "light"
     },
     "output_type": "display_data"
    }
   ],
   "source": [
    "# plot the scores\n",
    "fig = plt.figure()\n",
    "ax = fig.add_subplot(111)\n",
    "plt.plot(np.arange(len(scores)), np.mean(scores,axis=1))\n",
    "plt.ylabel('Score')\n",
    "plt.xlabel('Episode #')\n",
    "plt.show()"
   ]
  },
  {
   "cell_type": "code",
   "execution_count": 8,
   "metadata": {},
   "outputs": [
    {
     "data": {
      "text/plain": [
       "array([ 0.59949999,  1.16149997,  1.27849997,  1.67399996,  2.06299995,\n",
       "        2.64299994,  4.69849989,  6.41249986, 11.39349975, 15.30699966,\n",
       "       14.78299967, 18.56549959, 19.59149956, 24.18549946, 28.73799936,\n",
       "       30.13499933, 33.51499925, 34.54699923, 36.0104992 , 35.28249921,\n",
       "       34.73099922, 35.24249921, 36.25499919, 35.50499921, 36.53799918,\n",
       "       36.58749918, 36.60199918, 36.30799919, 36.16899919, 34.61549923,\n",
       "       36.94849917, 35.6574992 , 36.54949918, 36.59149918, 35.54099921,\n",
       "       35.9424992 , 37.14449917, 37.37649916, 36.11399919, 36.54649918,\n",
       "       37.42949916, 37.83649915, 37.06399917, 35.9024992 , 36.88049918,\n",
       "       35.8854992 , 37.67899916, 37.94049915, 37.09199917, 37.23699917,\n",
       "       38.05049915, 37.58149916, 36.82499918, 36.87899918, 35.47699921,\n",
       "       37.40699916, 35.8739992 , 37.80649915, 37.58049916, 37.84249915,\n",
       "       37.97649915, 37.14999917, 37.02549917, 37.34149917, 37.93049915,\n",
       "       36.06999919, 36.41149919, 37.29549917, 37.98449915, 36.58599918,\n",
       "       37.74149916, 36.53649918, 36.96699917, 37.12849917, 36.59799918,\n",
       "       37.59399916, 35.9174992 , 36.80299918, 36.43999919, 36.31699919,\n",
       "       37.67949916, 36.26999919, 36.91599917, 36.98599917, 36.57449918,\n",
       "       35.39399921, 36.53849918, 35.7109992 , 36.30799919, 37.63149916,\n",
       "       36.89699918, 35.7874992 , 37.48899916, 34.95899922, 37.39899916,\n",
       "       36.97749917, 34.60699923, 37.11999917, 36.69199918, 36.29699919])"
      ]
     },
     "execution_count": 8,
     "metadata": {},
     "output_type": "execute_result"
    }
   ],
   "source": [
    "np.mean(scores,axis=1)"
   ]
  },
  {
   "cell_type": "code",
   "execution_count": null,
   "metadata": {},
   "outputs": [],
   "source": []
  }
 ],
 "metadata": {
  "kernelspec": {
   "display_name": "drlnd",
   "language": "python",
   "name": "drlnd"
  },
  "language_info": {
   "codemirror_mode": {
    "name": "ipython",
    "version": 3
   },
   "file_extension": ".py",
   "mimetype": "text/x-python",
   "name": "python",
   "nbconvert_exporter": "python",
   "pygments_lexer": "ipython3",
   "version": "3.6.10"
  }
 },
 "nbformat": 4,
 "nbformat_minor": 2
}
